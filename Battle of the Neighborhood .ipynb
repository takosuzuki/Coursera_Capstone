{
    "nbformat_minor": 1, 
    "cells": [
        {
            "source": "## The Battle of the Neighborhood", 
            "cell_type": "markdown", 
            "metadata": {
                "collapsed": true
            }
        }, 
        {
            "source": "### Problem Background", 
            "cell_type": "markdown", 
            "metadata": {}
        }, 
        {
            "source": "##### Since 2000, China has been New York\u2019s leading growth market for exports. The New York Metropolitan Region is home to more than half of the 32 largest Chinese companies with offices in the United States. These companies represent a broad array of industries including shipping, steel, energy and manufacturing firms, and services. Many have chosen to open headquarters in New York in anticipation of eventual listing on the respective New York stock exchanges and entering U.S. capital markets. New York City currently boasts seven Chinese daily newspapers, two Chinese language television stations, and the largest Chinese neighborhood in the United States. New York area airports provide 12 daily flights to Hong Kong and five to Beijing, the most flights out of the eastern half of the United States. ", 
            "cell_type": "markdown", 
            "attachments": {}, 
            "metadata": {}
        }, 
        {
            "source": "### Problem Description", 
            "cell_type": "markdown", 
            "metadata": {}
        }, 
        {
            "source": "##### Hence the competitiveness drives business owners to think strategically before opening a store. In this case, a Chinese business owner wishes to open a store that sells high-end products that are particularly catered to the Chinese immigrants. However, most of the Chinatown in New York City is populated with middle-class or lower-class immigrants. To ensure the products will sell, it is crucial to select a location that will give the best ROI.\n\n", 
            "cell_type": "markdown", 
            "attachments": {}, 
            "metadata": {}
        }, 
        {
            "source": "## Solution Methodology", 
            "cell_type": "markdown", 
            "metadata": {}
        }, 
        {
            "execution_count": null, 
            "cell_type": "code", 
            "metadata": {}, 
            "outputs": [
                {
                    "output_type": "stream", 
                    "name": "stdout", 
                    "text": "Solving environment: done\n\n# All requested packages already installed.\n\nSolving environment: / "
                }
            ], 
            "source": "!conda install -c conda-forge geopy --yes\nfrom geopy.geocoders import Nominatim # module to convert an address into latitude and longitude values\nimport requests # library to handle requests\nimport pandas as pd # library for data analysis\nimport numpy as np # library to handle data in a vectorized manner\n\n# library for displaying images\nfrom IPython.display import Image\n\n# transforming json file into a pandas dataframe library\nfrom pandas.io.json import json_normalize\n\n!conda install -c conda-forge folium=0.5.0 --yes\nimport folium # plotting library\n\nprint ('Folium installed')\nprint ('Libraries imported')\n"
        }, 
        {
            "execution_count": null, 
            "cell_type": "code", 
            "metadata": {}, 
            "outputs": [], 
            "source": "address = 'New York City'\n\ngeolocator = Nominatim()\nlocation = geolocator.geocode(address)\nlatitude = location.latitude\nlongitude = location.longitude\nprint(latitude, longitude)"
        }, 
        {
            "execution_count": null, 
            "cell_type": "code", 
            "metadata": {}, 
            "outputs": [], 
            "source": "search_query = '\"Chinese\"'\nradius = 10000\nLIMIT=100\n"
        }, 
        {
            "execution_count": null, 
            "cell_type": "code", 
            "metadata": {}, 
            "outputs": [], 
            "source": "url = 'https://api.foursquare.com/v2/venues/search?client_id={}&client_secret={}&ll={},{}&v={}&query={}&radius={}&limit={}'.format(CLIENT_ID, CLIENT_SECRET, latitude, longitude, VERSION, search_query, radius, LIMIT)\nprint(url)"
        }, 
        {
            "execution_count": null, 
            "cell_type": "code", 
            "metadata": {}, 
            "outputs": [], 
            "source": "# Get the json output for the search query \"Chinese\"\nresult = requests.get(url).json()  \nresult"
        }, 
        {
            "execution_count": null, 
            "cell_type": "code", 
            "metadata": {}, 
            "outputs": [], 
            "source": "# assigning relevant part of JSON to venues\nvenues = result['response']['venues']\n\n# tranform venues into a dataframe\ndataframe = json_normalize(venues)\ndataframe.head()"
        }, 
        {
            "execution_count": null, 
            "cell_type": "code", 
            "metadata": {}, 
            "outputs": [], 
            "source": "# Obtaining only columns that include venue name, and anything that is associated with location\nfiltered_columns = ['name', 'categories'] + [col for col in dataframe.columns if col.startswith('location.')] + ['id']\ndataframe_filtered = dataframe.loc[:, filtered_columns]\n\n# function that extracts the category of the venue\ndef get_category_type(row):\n    try:\n        categories_list = row['categories']\n    except:\n        categories_list = row['venue.categories']\n        \n    if len(categories_list) == 0:\n        return None\n    else:\n        return categories_list[0]['name']\n\n# filter the category for each row\ndataframe_filtered['categories'] = dataframe_filtered.apply(get_category_type, axis=1)\n\n# clean column names by keeping only last term\ndataframe_filtered.columns = [column.split('.')[-1] for column in dataframe_filtered.columns]\n\ndataframe_filtered"
        }, 
        {
            "execution_count": null, 
            "cell_type": "code", 
            "metadata": {}, 
            "outputs": [], 
            "source": "dataframe_filtered.describe()\n"
        }, 
        {
            "execution_count": null, 
            "cell_type": "code", 
            "metadata": {}, 
            "outputs": [], 
            "source": "dataframe_cleaned = dataframe_filtered[dataframe_filtered['address'].notnull()]  # get rid records with address \"Not available\" \ndataframe_TOR=dataframe_cleaned[dataframe_cleaned.state == 'ON']   # get rid of \"non ON\" states\ndf_withpostcode=dataframe_TOR[dataframe_TOR['postalCode'].notnull()]  # get rid records with no Postcode\ndf_withpostcode"
        }, 
        {
            "execution_count": null, 
            "cell_type": "code", 
            "metadata": {}, 
            "outputs": [], 
            "source": "# define the dataframe columns\ncolumn_names = ['postalcode', 'Latitude', 'Longitude'] \n\n# instantiate the dataframe\ndf_postcode = pd.DataFrame(columns=column_names)\ndf_postcode"
        }, 
        {
            "execution_count": null, 
            "cell_type": "code", 
            "metadata": {}, 
            "outputs": [], 
            "source": "#Filling data for each row\ndf_postcode = df_withpostcode[['postalCode','lat','lng']]\ndf_postcode.head()"
        }, 
        {
            "execution_count": null, 
            "cell_type": "code", 
            "metadata": {}, 
            "outputs": [], 
            "source": "print('The geograpical coordinate of Toronto City are {}, {}.'.format(latitude, longitude))\n"
        }, 
        {
            "execution_count": null, 
            "cell_type": "code", 
            "metadata": {}, 
            "outputs": [], 
            "source": "# create map of New York using latitude and longitude values\nmap_toronto = folium.Map(location=[latitude, longitude], zoom_start=13)\n\n# add markers to map\nfor lat, lng, postalCode in zip(df_postcode['lat'], df_postcode['lng'], df_postcode['postalCode']):\n    label = '{}'.format(postalCode)\n    label = folium.Popup(label, parse_html=True)\n    folium.CircleMarker(\n        [lat, lng],\n        radius=5,\n        popup=label,\n        color='blue',\n        fill=True,\n        fill_color='#3186cc',\n        fill_opacity=0.7,\n        parse_html=False).add_to(map_newyork)  \n    \nmap_Newyork"
        }, 
        {
            "execution_count": null, 
            "cell_type": "code", 
            "metadata": {}, 
            "outputs": [], 
            "source": "#Filling data for each row\ndf_postcode = df_withpostcode[['postalCode','lat','lng']]\ndf_postcode.head()"
        }, 
        {
            "execution_count": null, 
            "cell_type": "code", 
            "metadata": {}, 
            "outputs": [], 
            "source": "df_postcode['postalCode']=df_postcode['postalCode'].str[:3]\ndf_postcode.head()"
        }, 
        {
            "execution_count": null, 
            "cell_type": "code", 
            "metadata": {}, 
            "outputs": [], 
            "source": "df_postcode=df_postcode.groupby('postalCode').count() \ndf_postcode"
        }, 
        {
            "execution_count": null, 
            "cell_type": "code", 
            "metadata": {}, 
            "outputs": [], 
            "source": ""
        }
    ], 
    "metadata": {
        "kernelspec": {
            "display_name": "Python 3.5", 
            "name": "python3", 
            "language": "python"
        }, 
        "language_info": {
            "mimetype": "text/x-python", 
            "nbconvert_exporter": "python", 
            "version": "3.5.5", 
            "name": "python", 
            "file_extension": ".py", 
            "pygments_lexer": "ipython3", 
            "codemirror_mode": {
                "version": 3, 
                "name": "ipython"
            }
        }
    }, 
    "nbformat": 4
}